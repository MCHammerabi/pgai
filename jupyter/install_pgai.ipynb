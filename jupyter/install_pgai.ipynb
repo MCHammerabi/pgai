{
 "cells": [
  {
   "cell_type": "code",
   "execution_count": null,
   "metadata": {},
   "outputs": [],
   "source": [
    "import psycopg2 as pg\n",
    "import os\n",
    "from datetime import datetime\n",
    "from dotenv import load_dotenv\n",
    "load_dotenv()\n",
    "\n",
    "conn = pg.connect(os.getenv('AI_DB_URL'))\n",
    "\n",
    "# install pgai (and pgvector and plpython3u with CASCADE)\n",
    "def create_pgai():\n",
    "    try:\n",
    "        cur = conn.cursor()\n",
    "        sql = '''\n",
    "            CREATE EXTENSION IF NOT EXISTS ai CASCADE; \n",
    "        '''\n",
    "        cur.execute(sql)\n",
    "        conn.commit()\n",
    "        return True\n",
    "    except Exception as e:\n",
    "        print('Error in create_pgai: {}'.format(e))\n",
    "        \n",
    "create_pgai()\n",
    "\n",
    "for notice in conn.notices:\n",
    "    print('')\n",
    "    print('***Message from Postgres: {}'.format(notice))\n",
    "    \n",
    "conn.close()\n"
   ]
  }
 ],
 "metadata": {
  "kernelspec": {
   "display_name": "env2024",
   "language": "python",
   "name": "python3"
  },
  "language_info": {
   "codemirror_mode": {
    "name": "ipython",
    "version": 3
   },
   "file_extension": ".py",
   "mimetype": "text/x-python",
   "name": "python",
   "nbconvert_exporter": "python",
   "pygments_lexer": "ipython3",
   "version": "3.11.5"
  }
 },
 "nbformat": 4,
 "nbformat_minor": 2
}
